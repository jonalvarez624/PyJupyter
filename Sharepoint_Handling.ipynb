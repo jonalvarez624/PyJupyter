{
 "cells": [
  {
   "cell_type": "code",
   "execution_count": 12,
   "id": "3cd1cfc3-d7bc-4317-a5fe-32fb3b49c9d3",
   "metadata": {},
   "outputs": [],
   "source": [
    "#Import Dependencies\n",
    "from office365.runtime.auth.authentication_context import AuthenticationContext\n",
    "from office365.runtime.client_request import ClientRequest\n",
    "from office365.runtime.http.request_options import RequestOptions\n",
    "from office365.sharepoint.client_context import ClientContext\n",
    "from office365.sharepoint.files.file import File\n",
    "from office365.runtime.auth.client_credential import ClientCredential\n",
    "from office365.runtime.auth.user_credential import UserCredential\n",
    "import pandas as pd\n",
    "import datetime\n",
    "\n",
    "#Read in credentials for Sharepoint Authentication\n",
    "with open('Credentials.txt') as creds:\n",
    "    lines = creds.read().splitlines()\n",
    "creds.close\n",
    "\n",
    "def download_files(row):\n",
    "    #Read in columns URL and File Name\n",
    "    file_url = row['ServerRelativeUrl']\n",
    "    filenm = row['Name']\n",
    "    #Concatentate to save to directory\n",
    "    download_prefix = \"C:/Temp/\"\n",
    "    download_path = \"\".join([download_prefix,filenm])\n",
    "    #Let the magic happen\n",
    "    with open(download_path, \"wb\") as local_file:\n",
    "        file = ctx.web.get_file_by_server_relative_url(file_url).download(local_file).execute_query()\n",
    "    \n",
    "    return(print(\"[Ok] file has been downloaded into: {0}\".format(download_path)))"
   ]
  },
  {
   "cell_type": "code",
   "execution_count": 2,
   "id": "c0a6c4c8-d938-4c37-8e45-25f66a93db71",
   "metadata": {},
   "outputs": [
    {
     "name": "stdout",
     "output_type": "stream",
     "text": [
      "Web title: USA-ANPD-Costco\n"
     ]
    },
    {
     "name": "stderr",
     "output_type": "stream",
     "text": [
      "C:\\Users\\ALVARJ~1\\AppData\\Local\\Temp/ipykernel_9988/3073889865.py:28: FutureWarning: The frame.append method is deprecated and will be removed from pandas in a future version. Use pandas.concat instead.\n",
      "  df_files = df_files.append(dict, ignore_index= True )\n",
      "C:\\Users\\ALVARJ~1\\AppData\\Local\\Temp/ipykernel_9988/3073889865.py:28: FutureWarning: The frame.append method is deprecated and will be removed from pandas in a future version. Use pandas.concat instead.\n",
      "  df_files = df_files.append(dict, ignore_index= True )\n",
      "C:\\Users\\ALVARJ~1\\AppData\\Local\\Temp/ipykernel_9988/3073889865.py:28: FutureWarning: The frame.append method is deprecated and will be removed from pandas in a future version. Use pandas.concat instead.\n",
      "  df_files = df_files.append(dict, ignore_index= True )\n",
      "C:\\Users\\ALVARJ~1\\AppData\\Local\\Temp/ipykernel_9988/3073889865.py:28: FutureWarning: The frame.append method is deprecated and will be removed from pandas in a future version. Use pandas.concat instead.\n",
      "  df_files = df_files.append(dict, ignore_index= True )\n",
      "C:\\Users\\ALVARJ~1\\AppData\\Local\\Temp/ipykernel_9988/3073889865.py:28: FutureWarning: The frame.append method is deprecated and will be removed from pandas in a future version. Use pandas.concat instead.\n",
      "  df_files = df_files.append(dict, ignore_index= True )\n"
     ]
    },
    {
     "data": {
      "text/html": [
       "<div>\n",
       "<style scoped>\n",
       "    .dataframe tbody tr th:only-of-type {\n",
       "        vertical-align: middle;\n",
       "    }\n",
       "\n",
       "    .dataframe tbody tr th {\n",
       "        vertical-align: top;\n",
       "    }\n",
       "\n",
       "    .dataframe thead th {\n",
       "        text-align: right;\n",
       "    }\n",
       "</style>\n",
       "<table border=\"1\" class=\"dataframe\">\n",
       "  <thead>\n",
       "    <tr style=\"text-align: right;\">\n",
       "      <th></th>\n",
       "      <th>Name</th>\n",
       "      <th>ServerRelativeUrl</th>\n",
       "      <th>TimeLastModified</th>\n",
       "      <th>ModTime</th>\n",
       "    </tr>\n",
       "  </thead>\n",
       "  <tbody>\n",
       "    <tr>\n",
       "      <th>0</th>\n",
       "      <td>Excel_File.xlsx</td>\n",
       "      <td>/sites/Shared Documents/Excel_File.xlsx</td>\n",
       "      <td>2022-01-27T14:59:21Z</td>\n",
       "      <td>2022-01-27 14:59:21</td>\n",
       "    </tr>\n",
       "    <tr>\n",
       "      <th>1</th>\n",
       "      <td>Warehouse Attribute List.xlsx</td>\n",
       "      <td>/sites/USA-ANPD-Costco/Shared Documents/Analyst Content/Data Files for Ecom Team/Warehouse Attribute List.xlsx</td>\n",
       "      <td>2021-11-16T13:53:38Z</td>\n",
       "      <td>2021-11-16 13:53:38</td>\n",
       "    </tr>\n",
       "    <tr>\n",
       "      <th>2</th>\n",
       "      <td>BRAND_FORECAST_MASTER.xlsx</td>\n",
       "      <td>/sites/USA-ANPD-Costco/Shared Documents/Analyst Content/Data Files for Ecom Team/BRAND_FORECAST_MASTER.xlsx</td>\n",
       "      <td>2022-01-19T21:14:38Z</td>\n",
       "      <td>2022-01-19 21:14:38</td>\n",
       "    </tr>\n",
       "    <tr>\n",
       "      <th>3</th>\n",
       "      <td>Brand Forecast Master File (for Dashboard).xlsx</td>\n",
       "      <td>/sites/USA-ANPD-Costco/Shared Documents/Analyst Content/Data Files for Ecom Team/Brand Forecast Master File (for Dashboard).xlsx</td>\n",
       "      <td>2022-01-05T17:12:04Z</td>\n",
       "      <td>2022-01-05 17:12:04</td>\n",
       "    </tr>\n",
       "    <tr>\n",
       "      <th>4</th>\n",
       "      <td>COSTCO_INPUT_FORECAST.xlsx</td>\n",
       "      <td>/sites/USA-ANPD-Costco/Shared Documents/Analyst Content/Data Files for Ecom Team/COSTCO_INPUT_FORECAST.xlsx</td>\n",
       "      <td>2022-01-27T15:22:24Z</td>\n",
       "      <td>2022-01-27 15:22:24</td>\n",
       "    </tr>\n",
       "  </tbody>\n",
       "</table>\n",
       "</div>"
      ],
      "text/plain": [
       "                                              Name  \\\n",
       "0                     Costco Internal Catalog.xlsx   \n",
       "1                    Warehouse Attribute List.xlsx   \n",
       "2                       BRAND_FORECAST_MASTER.xlsx   \n",
       "3  Brand Forecast Master File (for Dashboard).xlsx   \n",
       "4                       COSTCO_INPUT_FORECAST.xlsx   \n",
       "\n",
       "                                                                                                                  ServerRelativeUrl  \\\n",
       "0                     /sites/USA-ANPD-Costco/Shared Documents/Analyst Content/Data Files for Ecom Team/Costco Internal Catalog.xlsx   \n",
       "1                    /sites/USA-ANPD-Costco/Shared Documents/Analyst Content/Data Files for Ecom Team/Warehouse Attribute List.xlsx   \n",
       "2                       /sites/USA-ANPD-Costco/Shared Documents/Analyst Content/Data Files for Ecom Team/BRAND_FORECAST_MASTER.xlsx   \n",
       "3  /sites/USA-ANPD-Costco/Shared Documents/Analyst Content/Data Files for Ecom Team/Brand Forecast Master File (for Dashboard).xlsx   \n",
       "4                       /sites/USA-ANPD-Costco/Shared Documents/Analyst Content/Data Files for Ecom Team/COSTCO_INPUT_FORECAST.xlsx   \n",
       "\n",
       "       TimeLastModified              ModTime  \n",
       "0  2022-01-27T14:59:21Z  2022-01-27 14:59:21  \n",
       "1  2021-11-16T13:53:38Z  2021-11-16 13:53:38  \n",
       "2  2022-01-19T21:14:38Z  2022-01-19 21:14:38  \n",
       "3  2022-01-05T17:12:04Z  2022-01-05 17:12:04  \n",
       "4  2022-01-27T15:22:24Z  2022-01-27 15:22:24  "
      ]
     },
     "execution_count": 2,
     "metadata": {},
     "output_type": "execute_result"
    }
   ],
   "source": [
    "tenant_url = \"https://{company}.sharepoint.com/sites/TeamName/\"\n",
    "folder_url = \"/sites/Shared Documents/Data Folder/\"\n",
    "\n",
    "#Authenticate base tenant url\n",
    "ctx_auth = AuthenticationContext(tenant_url)\n",
    "user_credentials = UserCredential(lines[0],lines[1])\n",
    "ctx = ClientContext(tenant_url).with_credentials(user_credentials)\n",
    "web = ctx.web\n",
    "ctx.load(web)\n",
    "ctx.execute_query()\n",
    "print(\"Web title: {0}\".format(web.properties['Title']))\n",
    "\n",
    "#Access Folder\n",
    "libraryRoot = ctx.web.get_folder_by_server_relative_path(folder_url)\n",
    "ctx.load(libraryRoot)\n",
    "ctx.execute_query()\n",
    "\n",
    "#Load files\n",
    "files = libraryRoot.files\n",
    "ctx.load(files)\n",
    "ctx.execute_query()\n",
    "\n",
    "#Declare data frame column names\n",
    "df_files = pd.DataFrame(columns = ['Name', 'ServerRelativeUrl', 'TimeLastModified', 'ModTime'])\n",
    "#Loop through files and pull name,url,mod time\n",
    "for myfile in files:\n",
    "    #use mod_time to get in better date format\n",
    "    mod_time = datetime.datetime.strptime(myfile.properties['TimeLastModified'], '%Y-%m-%dT%H:%M:%SZ')  \n",
    "    #create a dict of all of the info to add into dataframe and then append to dataframe\n",
    "    dict = {'Name': myfile.properties['Name'], 'ServerRelativeUrl': myfile.properties['ServerRelativeUrl'], 'TimeLastModified': myfile.properties['TimeLastModified'], 'ModTime': mod_time}\n",
    "    df_files = df_files.append(dict, ignore_index= True )\n",
    "\n",
    "pd.set_option('display.max_colwidth', None)\n",
    "df_files"
   ]
  },
  {
   "cell_type": "code",
   "execution_count": 3,
   "id": "d69cef2b-01c9-43bf-a039-32fd4073ff01",
   "metadata": {},
   "outputs": [
    {
     "name": "stdout",
     "output_type": "stream",
     "text": [
      "[Ok] file has been downloaded into: C:/Temp/Costco Internal Catalog.xlsx\n",
      "[Ok] file has been downloaded into: C:/Temp/Warehouse Attribute List.xlsx\n",
      "[Ok] file has been downloaded into: C:/Temp/BRAND_FORECAST_MASTER.xlsx\n",
      "[Ok] file has been downloaded into: C:/Temp/Brand Forecast Master File (for Dashboard).xlsx\n",
      "[Ok] file has been downloaded into: C:/Temp/COSTCO_INPUT_FORECAST.xlsx\n"
     ]
    }
   ],
   "source": [
    "#run apply function\n",
    "df_files = df_files.apply(download_files, axis=1)"
   ]
  },
  {
   "cell_type": "code",
   "execution_count": 41,
   "id": "6df1de1f-7d40-46d9-826b-1215b4f57c80",
   "metadata": {},
   "outputs": [
    {
     "name": "stderr",
     "output_type": "stream",
     "text": [
      "[NbConvertApp] Converting notebook Sharepoint_Handling.ipynb to script\n",
      "[NbConvertApp] Writing 3272 bytes to Sharepoint_Handling.py\n"
     ]
    }
   ],
   "source": []
  },
  {
   "cell_type": "code",
   "execution_count": 9,
   "id": "b0804451-ace4-4896-8b3c-dd3c3acf2401",
   "metadata": {},
   "outputs": [
    {
     "name": "stdout",
     "output_type": "stream",
     "text": [
      "Web title: CHIP\n",
      "[Ok] file has been downloaded into: //oneabbott.com/ADFS9/DEPT/DEPT/Dcbc_215/eCommerce/Databases/Costco Catalog Download/COSTCO_INPUT.xlsx\n"
     ]
    }
   ],
   "source": [
    "#Authenticate for new sharepoint site\n",
    "tenant_url = \"https://abbott.sharepoint.com/teams/USA-AN-CHIP/\"\n",
    "file_url = \"/teams/USA-AN-CHIP/Shared Documents/Costco/COSTCO_INPUT.xlsx\"\n",
    "filenm = \"COSTCO_INPUT.xlsx\"\n",
    "\n",
    "#Authenticate base tenant url\n",
    "ctx_auth = AuthenticationContext(tenant_url)\n",
    "user_credentials = UserCredential(lines[0],lines[1])\n",
    "ctx = ClientContext(tenant_url).with_credentials(user_credentials)\n",
    "web = ctx.web\n",
    "ctx.load(web)\n",
    "ctx.execute_query()\n",
    "print(\"Web title: {0}\".format(web.properties['Title']))\n",
    "\n",
    "# Concatentate to save to directory\n",
    "download_prefix = \"//oneabbott.com/ADFS9/DEPT/DEPT/Dcbc_215/eCommerce/Databases/Costco Catalog Download/\"\n",
    "# download_prefix = \"C:/Temp/\"\n",
    "download_path = \"\".join([download_prefix, filenm])\n",
    "# Let the magic happen\n",
    "with open(download_path, \"wb\") as local_file:\n",
    "    file = ctx.web.get_file_by_server_relative_url(file_url).download(local_file).execute_query()\n",
    "\n",
    "print(\"[Ok] file has been downloaded into: {0}\".format(download_path))"
   ]
  },
  {
   "cell_type": "code",
   "execution_count": 10,
   "id": "57c82731-386f-4c86-82d4-d3a044123c04",
   "metadata": {},
   "outputs": [
    {
     "name": "stdout",
     "output_type": "stream",
     "text": [
      "Web title: National Accounts SharePoint\n",
      "[Ok] file has been downloaded into: //oneabbott.com/ADFS9/DEPT/DEPT/Dcbc_215/eCommerce/Databases/Costco Catalog Download/CBEC-VMI Tracker.xlsx\n"
     ]
    }
   ],
   "source": [
    "#Authenticate for new sharepoint site\n",
    "tenant_url = \"https://abbott.sharepoint.com/teams/US-AN-Nat_Acct/\"\n",
    "file_url = \"/teams/US-AN-Nat_Acct/Costco Brands/CBEC Tracker/CBEC-VMI Tracker.xlsx\"\n",
    "filenm = \"CBEC-VMI Tracker.xlsx\"\n",
    "\n",
    "#Authenticate base tenant url\n",
    "ctx_auth = AuthenticationContext(tenant_url)\n",
    "user_credentials = UserCredential(lines[0],lines[1])\n",
    "ctx = ClientContext(tenant_url).with_credentials(user_credentials)\n",
    "web = ctx.web\n",
    "ctx.load(web)\n",
    "ctx.execute_query()\n",
    "print(\"Web title: {0}\".format(web.properties['Title']))\n",
    "\n",
    "# Concatentate to save to directory\n",
    "download_prefix = \"//oneabbott.com/ADFS9/DEPT/DEPT/Dcbc_215/eCommerce/Databases/Costco Catalog Download/\"\n",
    "# download_prefix = \"C:/Temp/\"\n",
    "download_path = \"\".join([download_prefix, filenm])\n",
    "# Let the magic happen\n",
    "with open(download_path, \"wb\") as local_file:\n",
    "    file = ctx.web.get_file_by_server_relative_url(file_url).download(local_file).execute_query()\n",
    "\n",
    "print(\"[Ok] file has been downloaded into: {0}\".format(download_path))"
   ]
  },
  {
   "cell_type": "code",
   "execution_count": null,
   "id": "cea8434b-c4e3-4d1e-8b14-2edfc3246367",
   "metadata": {},
   "outputs": [],
   "source": [
    "#Authenticate for new sharepoint site\n",
    "\n",
    "\n",
    "tenant_url = \"https://abbott.sharepoint.com/teams/US-AN-Nat_Acct/\"\n",
    "file_url = \"/teams/US-AN-Nat_Acct/Costco Brands/CBEC Tracker/CBEC-VMI Tracker.xlsx\"\n",
    "filenm = \"CBEC-VMI Tracker.xlsx\"\n",
    "\n",
    "#Authenticate base tenant url\n",
    "ctx_auth = AuthenticationContext(tenant_url)\n",
    "user_credentials = UserCredential(lines[0],lines[1])\n",
    "ctx = ClientContext(tenant_url).with_credentials(user_credentials)\n",
    "web = ctx.web\n",
    "ctx.load(web)\n",
    "ctx.execute_query()\n",
    "print(\"Web title: {0}\".format(web.properties['Title']))\n",
    "\n",
    "# Concatentate to save to directory\n",
    "download_prefix = \"C:/Temp/\"\n",
    "download_path = \"\".join([download_prefix, filenm])\n",
    "# Let the magic happen\n",
    "with open(download_path, \"wb\") as local_file:\n",
    "    file = ctx.web.get_file_by_server_relative_url(file_url).download(local_file).execute_query()\n",
    "\n",
    "print(\"[Ok] file has been downloaded into: {0}\".format(download_path))"
   ]
  },
  {
   "cell_type": "code",
   "execution_count": 11,
   "id": "264d437f-b449-43d3-82dd-9a28abc04f6d",
   "metadata": {},
   "outputs": [
    {
     "name": "stderr",
     "output_type": "stream",
     "text": [
      "[NbConvertApp] Converting notebook Sharepoint_Handling.ipynb to script\n",
      "[NbConvertApp] Writing 5240 bytes to Sharepoint_Handling.py\n"
     ]
    }
   ],
   "source": [
    "!jupyter nbconvert --to script Sharepoint_Handling.ipynb\n",
    "with open('Sharepoint_Handling.py', 'r') as f:\n",
    "    lines = f.readlines()\n",
    "with open('Sharepoint_Handling.py', 'w') as f:\n",
    "    for line in lines:\n",
    "        if 'nbconvert --to script' in line:\n",
    "            break\n",
    "        else:\n",
    "            f.write(line)"
   ]
  },
  {
   "cell_type": "code",
   "execution_count": null,
   "id": "0ff715af-f691-4a86-a738-50bec9a5f67d",
   "metadata": {},
   "outputs": [],
   "source": []
  }
 ],
 "metadata": {
  "kernelspec": {
   "display_name": "Python 3 (ipykernel)",
   "language": "python",
   "name": "python3"
  },
  "language_info": {
   "codemirror_mode": {
    "name": "ipython",
    "version": 3
   },
   "file_extension": ".py",
   "mimetype": "text/x-python",
   "name": "python",
   "nbconvert_exporter": "python",
   "pygments_lexer": "ipython3",
   "version": "3.9.5"
  }
 },
 "nbformat": 4,
 "nbformat_minor": 5
}
